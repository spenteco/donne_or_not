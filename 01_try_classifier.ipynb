{
 "cells": [
  {
   "cell_type": "code",
   "execution_count": 1,
   "metadata": {},
   "outputs": [
    {
     "name": "stdout",
     "output_type": "stream",
     "text": [
      "58488\n",
      "{'line_text': ['PAinter', ',', 'once', 'more', 'thy', 'Pencil', 'reassume', '.'], 'line_pos': ['n1', '', 'acp', 'avc-d', 'po', 'n1', 'vvi', ''], 'line_arpabet': ['p/ey/n/t/er', '', 'w/ah/n/s', 'm/ao/r', 'dh/ay', 'p/eh/n/s/ah/l', 'r/iy/ah/s/uw/m', ''], 'line_ipa': ['p/eɪ/n/t/ɹ̩', '', 'w/ʌ/n/s', 'm/ɔ/ɹ', 'ð/aɪ', 'p/ɛ/n/s/ʌ/l', 'ɹ/i/ʌ/s/u/m', ''], 'line_hayes_features': ['001000100000000000000000000000/010010001001010000001000101010/100100100000000000101000000010/100100100000000000000000000000/100010001010000000001000100010', '', '011011001000100000011000001010/010011001000000000001000100010/100100100000000000101000000010/100100101100000000000001000000', '001000100000000000101000000010/011011001000000000011000100010/100010001010000000001000000010', '100100101110000000000000000010/010010001000010001001000100010', '001000100000000000000000000000/010010001001000000001000100010/100100100000000000101000000010/100100101100000000000001000000/010011001000000000001000100010/100110101000000100001000000010', '100010001010000000001000000010/010010001001100000001000101010/010011001000000000001000100010/100100101100000000000001000000/011011001000100000011000101010/001000100000000000101000000010', ''], 'line_v_c': ['C/V/C/C/V', '', 'C/V/C/C', 'C/V/C', 'C/V', 'C/V/C/C/V/C', 'C/V/V/C/V/C', ''], 'n_syllables': 10, 'rhyme_word': 'reassume', 'rhyme_arpabet': 'uw/m', 'rhyme_ipa': 'u/m', 'rhyme_hayes': '011011001000100000011000101010/001000100000000000101000000010', 'tcp_id': 'A52137', 'author': 'Marvell', 'p_number': 0, 'l_number': 0}\n"
     ]
    }
   ],
   "source": [
    "import json\n",
    "\n",
    "f = open('data/vectorized_lines.json', 'r', encoding='utf-8')\n",
    "vectorized_lines = json.load(f)\n",
    "f.close()\n",
    "\n",
    "print(len(vectorized_lines))\n",
    "print(vectorized_lines[0])"
   ]
  },
  {
   "cell_type": "code",
   "execution_count": 2,
   "metadata": {},
   "outputs": [
    {
     "name": "stdout",
     "output_type": "stream",
     "text": [
      "Marvell 8418\n",
      "Vaughan 8893\n",
      "Donne 13346\n",
      "Crashaw 8545\n",
      "Rochester 3875\n",
      "Herbert 5420\n",
      "Herrick 9991\n",
      "\n",
      "['Crashaw', 'Donne', 'Herbert', 'Herrick', 'Marvell', 'Rochester', 'Vaughan']\n"
     ]
    }
   ],
   "source": [
    "lines_by_author = {}\n",
    "\n",
    "for l in vectorized_lines:\n",
    "    if l['author'] not in lines_by_author:\n",
    "        lines_by_author[l['author']] = []\n",
    "    lines_by_author[l['author']].append(l)\n",
    "    \n",
    "for author, lines in lines_by_author.items():\n",
    "    print(author, len(lines))\n",
    "    \n",
    "author_names = sorted(list(lines_by_author.keys()))\n",
    "\n",
    "print()\n",
    "print(author_names)"
   ]
  },
  {
   "cell_type": "code",
   "execution_count": 9,
   "metadata": {},
   "outputs": [
    {
     "name": "stdout",
     "output_type": "stream",
     "text": [
      "\n",
      "Crashaw vs. Donne\n",
      "\n",
      "\t a_lines 8545 b_lines 13346\n",
      "\n",
      "\t a_training 3000\n",
      "\t a_testing 5545\n",
      "\n",
      "\t b_training 3000\n",
      "\t b_testing 5545\n",
      "\n"
     ]
    },
    {
     "ename": "ValueError",
     "evalue": "bad input shape (3000, 30)",
     "output_type": "error",
     "traceback": [
      "\u001b[0;31m--------------------------------------------------------------------------\u001b[0m",
      "\u001b[0;31mValueError\u001b[0m                               Traceback (most recent call last)",
      "\u001b[0;32m<ipython-input-9-13640bb0e703>\u001b[0m in \u001b[0;36m<module>\u001b[0;34m\u001b[0m\n\u001b[1;32m    103\u001b[0m         \u001b[0;32mfor\u001b[0m \u001b[0mclassifier_name\u001b[0m\u001b[0;34m,\u001b[0m \u001b[0mclassifier\u001b[0m \u001b[0;32min\u001b[0m \u001b[0mzip\u001b[0m\u001b[0;34m(\u001b[0m\u001b[0mclassifier_names\u001b[0m\u001b[0;34m,\u001b[0m \u001b[0mclassifiers\u001b[0m\u001b[0;34m)\u001b[0m\u001b[0;34m:\u001b[0m\u001b[0;34m\u001b[0m\u001b[0;34m\u001b[0m\u001b[0m\n\u001b[1;32m    104\u001b[0m \u001b[0;34m\u001b[0m\u001b[0m\n\u001b[0;32m--> 105\u001b[0;31m             \u001b[0mclassifier\u001b[0m\u001b[0;34m.\u001b[0m\u001b[0mfit\u001b[0m\u001b[0;34m(\u001b[0m\u001b[0ma_training\u001b[0m\u001b[0;34m,\u001b[0m \u001b[0mb_training\u001b[0m\u001b[0;34m)\u001b[0m\u001b[0;34m\u001b[0m\u001b[0;34m\u001b[0m\u001b[0m\n\u001b[0m\u001b[1;32m    106\u001b[0m             \u001b[0mscore\u001b[0m \u001b[0;34m=\u001b[0m \u001b[0mclassifier\u001b[0m\u001b[0;34m.\u001b[0m\u001b[0mscore\u001b[0m\u001b[0;34m(\u001b[0m\u001b[0ma_testing\u001b[0m\u001b[0;34m,\u001b[0m \u001b[0mb_testing\u001b[0m\u001b[0;34m)\u001b[0m\u001b[0;34m\u001b[0m\u001b[0;34m\u001b[0m\u001b[0m\n\u001b[1;32m    107\u001b[0m \u001b[0;34m\u001b[0m\u001b[0m\n",
      "\u001b[0;32m~/anaconda2/envs/py3/lib/python3.7/site-packages/sklearn/svm/_base.py\u001b[0m in \u001b[0;36mfit\u001b[0;34m(self, X, y, sample_weight)\u001b[0m\n\u001b[1;32m    146\u001b[0m         X, y = check_X_y(X, y, dtype=np.float64,\n\u001b[1;32m    147\u001b[0m                          \u001b[0morder\u001b[0m\u001b[0;34m=\u001b[0m\u001b[0;34m'C'\u001b[0m\u001b[0;34m,\u001b[0m \u001b[0maccept_sparse\u001b[0m\u001b[0;34m=\u001b[0m\u001b[0;34m'csr'\u001b[0m\u001b[0;34m,\u001b[0m\u001b[0;34m\u001b[0m\u001b[0;34m\u001b[0m\u001b[0m\n\u001b[0;32m--> 148\u001b[0;31m                          accept_large_sparse=False)\n\u001b[0m\u001b[1;32m    149\u001b[0m         \u001b[0my\u001b[0m \u001b[0;34m=\u001b[0m \u001b[0mself\u001b[0m\u001b[0;34m.\u001b[0m\u001b[0m_validate_targets\u001b[0m\u001b[0;34m(\u001b[0m\u001b[0my\u001b[0m\u001b[0;34m)\u001b[0m\u001b[0;34m\u001b[0m\u001b[0;34m\u001b[0m\u001b[0m\n\u001b[1;32m    150\u001b[0m \u001b[0;34m\u001b[0m\u001b[0m\n",
      "\u001b[0;32m~/anaconda2/envs/py3/lib/python3.7/site-packages/sklearn/utils/validation.py\u001b[0m in \u001b[0;36mcheck_X_y\u001b[0;34m(X, y, accept_sparse, accept_large_sparse, dtype, order, copy, force_all_finite, ensure_2d, allow_nd, multi_output, ensure_min_samples, ensure_min_features, y_numeric, warn_on_dtype, estimator)\u001b[0m\n\u001b[1;32m    758\u001b[0m                         dtype=None)\n\u001b[1;32m    759\u001b[0m     \u001b[0;32melse\u001b[0m\u001b[0;34m:\u001b[0m\u001b[0;34m\u001b[0m\u001b[0;34m\u001b[0m\u001b[0m\n\u001b[0;32m--> 760\u001b[0;31m         \u001b[0my\u001b[0m \u001b[0;34m=\u001b[0m \u001b[0mcolumn_or_1d\u001b[0m\u001b[0;34m(\u001b[0m\u001b[0my\u001b[0m\u001b[0;34m,\u001b[0m \u001b[0mwarn\u001b[0m\u001b[0;34m=\u001b[0m\u001b[0;32mTrue\u001b[0m\u001b[0;34m)\u001b[0m\u001b[0;34m\u001b[0m\u001b[0;34m\u001b[0m\u001b[0m\n\u001b[0m\u001b[1;32m    761\u001b[0m         \u001b[0m_assert_all_finite\u001b[0m\u001b[0;34m(\u001b[0m\u001b[0my\u001b[0m\u001b[0;34m)\u001b[0m\u001b[0;34m\u001b[0m\u001b[0;34m\u001b[0m\u001b[0m\n\u001b[1;32m    762\u001b[0m     \u001b[0;32mif\u001b[0m \u001b[0my_numeric\u001b[0m \u001b[0;32mand\u001b[0m \u001b[0my\u001b[0m\u001b[0;34m.\u001b[0m\u001b[0mdtype\u001b[0m\u001b[0;34m.\u001b[0m\u001b[0mkind\u001b[0m \u001b[0;34m==\u001b[0m \u001b[0;34m'O'\u001b[0m\u001b[0;34m:\u001b[0m\u001b[0;34m\u001b[0m\u001b[0;34m\u001b[0m\u001b[0m\n",
      "\u001b[0;32m~/anaconda2/envs/py3/lib/python3.7/site-packages/sklearn/utils/validation.py\u001b[0m in \u001b[0;36mcolumn_or_1d\u001b[0;34m(y, warn)\u001b[0m\n\u001b[1;32m    795\u001b[0m         \u001b[0;32mreturn\u001b[0m \u001b[0mnp\u001b[0m\u001b[0;34m.\u001b[0m\u001b[0mravel\u001b[0m\u001b[0;34m(\u001b[0m\u001b[0my\u001b[0m\u001b[0;34m)\u001b[0m\u001b[0;34m\u001b[0m\u001b[0;34m\u001b[0m\u001b[0m\n\u001b[1;32m    796\u001b[0m \u001b[0;34m\u001b[0m\u001b[0m\n\u001b[0;32m--> 797\u001b[0;31m     \u001b[0;32mraise\u001b[0m \u001b[0mValueError\u001b[0m\u001b[0;34m(\u001b[0m\u001b[0;34m\"bad input shape {0}\"\u001b[0m\u001b[0;34m.\u001b[0m\u001b[0mformat\u001b[0m\u001b[0;34m(\u001b[0m\u001b[0mshape\u001b[0m\u001b[0;34m)\u001b[0m\u001b[0;34m)\u001b[0m\u001b[0;34m\u001b[0m\u001b[0;34m\u001b[0m\u001b[0m\n\u001b[0m\u001b[1;32m    798\u001b[0m \u001b[0;34m\u001b[0m\u001b[0m\n\u001b[1;32m    799\u001b[0m \u001b[0;34m\u001b[0m\u001b[0m\n",
      "\u001b[0;31mValueError\u001b[0m: bad input shape (3000, 30)"
     ]
    }
   ],
   "source": [
    "import random\n",
    "\n",
    "import numpy as np\n",
    "from sklearn.neural_network import MLPClassifier\n",
    "from sklearn.neighbors import KNeighborsClassifier\n",
    "from sklearn.svm import SVC\n",
    "from sklearn.gaussian_process import GaussianProcessClassifier\n",
    "from sklearn.gaussian_process.kernels import RBF\n",
    "from sklearn.tree import DecisionTreeClassifier\n",
    "from sklearn.ensemble import RandomForestClassifier, AdaBoostClassifier\n",
    "from sklearn.naive_bayes import GaussianNB\n",
    "from sklearn.discriminant_analysis import QuadraticDiscriminantAnalysis\n",
    "\n",
    "classifier_names = [\n",
    "    \"Nearest Neighbors\",\n",
    "    \"Linear SVM\",\n",
    "    \"RBF SVM\",\n",
    "    \"Gaussian Process\",\n",
    "    \"Decision Tree\",\n",
    "    \"Random Forest\",\n",
    "    \"Neural Net\",\n",
    "    \"AdaBoost\",\n",
    "    \"Naive Bayes\",\n",
    "    \"QDA\",\n",
    "]\n",
    "\n",
    "classifiers = [\n",
    "    KNeighborsClassifier(2),\n",
    "    SVC(kernel=\"linear\", C=0.025),\n",
    "    SVC(gamma=2, C=1),\n",
    "    GaussianProcessClassifier(1.0 * RBF(1.0)),\n",
    "    DecisionTreeClassifier(max_depth=5),\n",
    "    RandomForestClassifier(max_depth=5, n_estimators=10, max_features=1),\n",
    "    MLPClassifier(alpha=1, max_iter=1000),\n",
    "    AdaBoostClassifier(),\n",
    "    GaussianNB(),\n",
    "    QuadraticDiscriminantAnalysis(),\n",
    "]\n",
    "        \n",
    "# -----------------------------------------------------------------------------------\n",
    "\n",
    "def lines_to_features(lines):\n",
    "    \n",
    "    all_lines_features = []\n",
    "    \n",
    "    for l in lines:\n",
    "        \n",
    "        l_features = [0 for a in range(0, 30)]\n",
    "        \n",
    "        hayes = '/'.join(l['line_hayes_features']).split('/')\n",
    "        \n",
    "        for h in hayes:\n",
    "            i_features = [int(c) for c in h]\n",
    "            for a, i in enumerate(i_features):\n",
    "                l_features[a] += i\n",
    "                \n",
    "        all_lines_features.append(np.array(l_features))\n",
    "\n",
    "    return np.array(all_lines_features)\n",
    "        \n",
    "# -----------------------------------------------------------------------------------\n",
    "        \n",
    "for a in range(0, len(author_names) - 1):\n",
    "    for b in range(a + 1, len(author_names)):\n",
    "        \n",
    "        a_lines = lines_by_author[author_names[a]]\n",
    "        b_lines = lines_by_author[author_names[b]]\n",
    "        \n",
    "        random.shuffle(a_lines)\n",
    "        random.shuffle(b_lines)\n",
    "        \n",
    "        lines_to_features([a_lines[0]])\n",
    "        \n",
    "        a_training = lines_to_features(a_lines[:3000])\n",
    "        a_testing = lines_to_features(a_lines[3000:])\n",
    "        \n",
    "        b_training = lines_to_features(b_lines[:3000])\n",
    "        b_testing = lines_to_features(b_lines[3000:])\n",
    "        \n",
    "        low_testing_n = len(a_testing)\n",
    "        if len(b_testing) < low_testing_n:\n",
    "            low_testing_n = len(b_testing)\n",
    "            \n",
    "        a_testing = a_testing[:low_testing_n]\n",
    "        b_testing = b_testing[:low_testing_n]\n",
    "        \n",
    "        \n",
    "        print()\n",
    "        print(author_names[a], 'vs.', author_names[b])\n",
    "        print()\n",
    "        \n",
    "        print('\\t', 'a_lines', len(a_lines), 'b_lines', len(b_lines))\n",
    "        print()\n",
    "        print('\\t', 'a_training', len(a_training))\n",
    "        print('\\t', 'a_testing', len(a_testing))\n",
    "        print()\n",
    "        print('\\t', 'b_training', len(b_training))\n",
    "        print('\\t', 'b_testing', len(b_testing))\n",
    "        print()\n",
    "        \n",
    "        # -----------------------------------------------------------------------------------\n",
    "        \n",
    "        for classifier_name, classifier in zip(classifier_names, classifiers):\n",
    "            \n",
    "            classifier.fit(a_training, b_training)\n",
    "            score = classifier.score(a_testing, b_testing)\n",
    "            \n",
    "            print('\\t', classifier_name, score)\n",
    "            \n",
    "            \n",
    "        \n",
    "        break\n",
    "    break"
   ]
  },
  {
   "cell_type": "code",
   "execution_count": null,
   "metadata": {},
   "outputs": [],
   "source": []
  }
 ],
 "metadata": {
  "kernelspec": {
   "display_name": "Python 3",
   "language": "python",
   "name": "python3"
  },
  "language_info": {
   "codemirror_mode": {
    "name": "ipython",
    "version": 3
   },
   "file_extension": ".py",
   "mimetype": "text/x-python",
   "name": "python",
   "nbconvert_exporter": "python",
   "pygments_lexer": "ipython3",
   "version": "3.7.2"
  }
 },
 "nbformat": 4,
 "nbformat_minor": 4
}
